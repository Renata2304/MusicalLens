{
 "cells": [
  {
   "cell_type": "code",
   "execution_count": 1,
   "id": "81459ca2",
   "metadata": {
    "_cell_guid": "b1076dfc-b9ad-4769-8c92-a6c4dae69d19",
    "_uuid": "8f2839f25d086af736a60e9eeb907d3b93b6e0e5",
    "execution": {
     "iopub.execute_input": "2022-02-01T06:08:29.470834Z",
     "iopub.status.busy": "2022-02-01T06:08:29.469355Z",
     "iopub.status.idle": "2022-02-01T06:08:33.700290Z",
     "shell.execute_reply": "2022-02-01T06:08:33.699569Z",
     "shell.execute_reply.started": "2022-02-01T05:46:39.078058Z"
    },
    "papermill": {
     "duration": 4.254003,
     "end_time": "2022-02-01T06:08:33.700454",
     "exception": false,
     "start_time": "2022-02-01T06:08:29.446451",
     "status": "completed"
    },
    "tags": []
   },
   "outputs": [],
   "source": [
    "import numpy as np # linear algebra\n",
    "import pandas as pd # data processing, CSV file I/O (e.g. pd.read_csv)\n",
    "import matplotlib.pyplot as plt\n",
    "import os\n",
    "import tensorflow as tf"
   ]
  },
  {
   "cell_type": "markdown",
   "id": "5d4d44c9",
   "metadata": {
    "papermill": {
     "duration": 0.015797,
     "end_time": "2022-02-01T06:08:33.733091",
     "exception": false,
     "start_time": "2022-02-01T06:08:33.717294",
     "status": "completed"
    },
    "tags": []
   },
   "source": [
    "## Label enconding and decoding"
   ]
  },
  {
   "cell_type": "code",
   "execution_count": 2,
   "id": "4e9f731f",
   "metadata": {
    "execution": {
     "iopub.execute_input": "2022-02-01T06:08:33.769573Z",
     "iopub.status.busy": "2022-02-01T06:08:33.769046Z",
     "iopub.status.idle": "2022-02-01T06:08:33.772392Z",
     "shell.execute_reply": "2022-02-01T06:08:33.771992Z",
     "shell.execute_reply.started": "2022-02-01T05:46:45.685192Z"
    },
    "papermill": {
     "duration": 0.023827,
     "end_time": "2022-02-01T06:08:33.772513",
     "exception": false,
     "start_time": "2022-02-01T06:08:33.748686",
     "status": "completed"
    },
    "tags": []
   },
   "outputs": [],
   "source": [
    "label_code = {'Eight':0,'Half':1,'Quarter':2,'Sixteenth':3,'Whole':4}\n",
    "label_decode = ['Eight','Half','Quarter','Sixteenth','Whole']"
   ]
  },
  {
   "cell_type": "markdown",
   "id": "ed54e373",
   "metadata": {
    "papermill": {
     "duration": 0.015514,
     "end_time": "2022-02-01T06:08:33.803971",
     "exception": false,
     "start_time": "2022-02-01T06:08:33.788457",
     "status": "completed"
    },
    "tags": []
   },
   "source": [
    "## Dataframe for datasets"
   ]
  },
  {
   "cell_type": "code",
   "execution_count": 3,
   "id": "86baa57a",
   "metadata": {
    "execution": {
     "iopub.execute_input": "2022-02-01T06:08:33.845973Z",
     "iopub.status.busy": "2022-02-01T06:08:33.845247Z",
     "iopub.status.idle": "2022-02-01T06:08:33.847726Z",
     "shell.execute_reply": "2022-02-01T06:08:33.847274Z",
     "shell.execute_reply.started": "2022-02-01T05:46:51.869080Z"
    },
    "papermill": {
     "duration": 0.028101,
     "end_time": "2022-02-01T06:08:33.847831",
     "exception": false,
     "start_time": "2022-02-01T06:08:33.819730",
     "status": "completed"
    },
    "tags": []
   },
   "outputs": [],
   "source": [
    "df = pd.DataFrame(columns = ['path', 'label'])"
   ]
  },
  {
   "cell_type": "code",
   "execution_count": 4,
   "id": "94f9853c",
   "metadata": {
    "execution": {
     "iopub.execute_input": "2022-02-01T06:08:33.883218Z",
     "iopub.status.busy": "2022-02-01T06:08:33.882722Z",
     "iopub.status.idle": "2022-02-01T06:08:44.290505Z",
     "shell.execute_reply": "2022-02-01T06:08:44.290024Z",
     "shell.execute_reply.started": "2022-02-01T05:46:58.984878Z"
    },
    "papermill": {
     "duration": 10.427377,
     "end_time": "2022-02-01T06:08:44.290646",
     "exception": false,
     "start_time": "2022-02-01T06:08:33.863269",
     "status": "completed"
    },
    "tags": []
   },
   "outputs": [],
   "source": [
    "for dirname, _, filenames in os.walk('../input/music-notes-datasets/datasets/datasets/Notes'):\n",
    "    for filename in filenames:\n",
    "        path = os.path.join(dirname, filename)\n",
    "        name = dirname.split('/')[-1]\n",
    "        label = label_code[name]\n",
    "        df = df.append({'path' : path, 'label' : label}, ignore_index = True)"
   ]
  },
  {
   "cell_type": "code",
   "execution_count": 5,
   "id": "ddcd35bd",
   "metadata": {
    "execution": {
     "iopub.execute_input": "2022-02-01T06:08:44.330471Z",
     "iopub.status.busy": "2022-02-01T06:08:44.329637Z",
     "iopub.status.idle": "2022-02-01T06:08:44.339281Z",
     "shell.execute_reply": "2022-02-01T06:08:44.339720Z",
     "shell.execute_reply.started": "2022-02-01T05:47:27.800943Z"
    },
    "papermill": {
     "duration": 0.032883,
     "end_time": "2022-02-01T06:08:44.339850",
     "exception": false,
     "start_time": "2022-02-01T06:08:44.306967",
     "status": "completed"
    },
    "tags": []
   },
   "outputs": [
    {
     "data": {
      "text/html": [
       "<div>\n",
       "<style scoped>\n",
       "    .dataframe tbody tr th:only-of-type {\n",
       "        vertical-align: middle;\n",
       "    }\n",
       "\n",
       "    .dataframe tbody tr th {\n",
       "        vertical-align: top;\n",
       "    }\n",
       "\n",
       "    .dataframe thead th {\n",
       "        text-align: right;\n",
       "    }\n",
       "</style>\n",
       "<table border=\"1\" class=\"dataframe\">\n",
       "  <thead>\n",
       "    <tr style=\"text-align: right;\">\n",
       "      <th></th>\n",
       "      <th>path</th>\n",
       "      <th>label</th>\n",
       "    </tr>\n",
       "  </thead>\n",
       "  <tbody>\n",
       "    <tr>\n",
       "      <th>0</th>\n",
       "      <td>../input/music-notes-datasets/datasets/dataset...</td>\n",
       "      <td>3</td>\n",
       "    </tr>\n",
       "    <tr>\n",
       "      <th>1</th>\n",
       "      <td>../input/music-notes-datasets/datasets/dataset...</td>\n",
       "      <td>3</td>\n",
       "    </tr>\n",
       "    <tr>\n",
       "      <th>2</th>\n",
       "      <td>../input/music-notes-datasets/datasets/dataset...</td>\n",
       "      <td>3</td>\n",
       "    </tr>\n",
       "    <tr>\n",
       "      <th>3</th>\n",
       "      <td>../input/music-notes-datasets/datasets/dataset...</td>\n",
       "      <td>3</td>\n",
       "    </tr>\n",
       "    <tr>\n",
       "      <th>4</th>\n",
       "      <td>../input/music-notes-datasets/datasets/dataset...</td>\n",
       "      <td>3</td>\n",
       "    </tr>\n",
       "  </tbody>\n",
       "</table>\n",
       "</div>"
      ],
      "text/plain": [
       "                                                path label\n",
       "0  ../input/music-notes-datasets/datasets/dataset...     3\n",
       "1  ../input/music-notes-datasets/datasets/dataset...     3\n",
       "2  ../input/music-notes-datasets/datasets/dataset...     3\n",
       "3  ../input/music-notes-datasets/datasets/dataset...     3\n",
       "4  ../input/music-notes-datasets/datasets/dataset...     3"
      ]
     },
     "execution_count": 5,
     "metadata": {},
     "output_type": "execute_result"
    }
   ],
   "source": [
    "df.head()"
   ]
  },
  {
   "cell_type": "markdown",
   "id": "68621054",
   "metadata": {
    "papermill": {
     "duration": 0.015782,
     "end_time": "2022-02-01T06:08:44.372095",
     "exception": false,
     "start_time": "2022-02-01T06:08:44.356313",
     "status": "completed"
    },
    "tags": []
   },
   "source": [
    "## Trainning testing split"
   ]
  },
  {
   "cell_type": "code",
   "execution_count": 6,
   "id": "3c222a83",
   "metadata": {
    "execution": {
     "iopub.execute_input": "2022-02-01T06:08:44.407666Z",
     "iopub.status.busy": "2022-02-01T06:08:44.407016Z",
     "iopub.status.idle": "2022-02-01T06:08:44.958521Z",
     "shell.execute_reply": "2022-02-01T06:08:44.958022Z",
     "shell.execute_reply.started": "2022-02-01T05:47:32.063947Z"
    },
    "papermill": {
     "duration": 0.570648,
     "end_time": "2022-02-01T06:08:44.958646",
     "exception": false,
     "start_time": "2022-02-01T06:08:44.387998",
     "status": "completed"
    },
    "tags": []
   },
   "outputs": [],
   "source": [
    "from sklearn.model_selection import train_test_split\n",
    "\n",
    "train, test = train_test_split(df, test_size=0.2, random_state = 77)"
   ]
  },
  {
   "cell_type": "code",
   "execution_count": 7,
   "id": "5a9d4982",
   "metadata": {
    "execution": {
     "iopub.execute_input": "2022-02-01T06:08:44.998846Z",
     "iopub.status.busy": "2022-02-01T06:08:44.998175Z",
     "iopub.status.idle": "2022-02-01T06:08:45.000740Z",
     "shell.execute_reply": "2022-02-01T06:08:45.001227Z",
     "shell.execute_reply.started": "2022-02-01T05:47:34.704726Z"
    },
    "papermill": {
     "duration": 0.026588,
     "end_time": "2022-02-01T06:08:45.001346",
     "exception": false,
     "start_time": "2022-02-01T06:08:44.974758",
     "status": "completed"
    },
    "tags": []
   },
   "outputs": [
    {
     "data": {
      "text/html": [
       "<div>\n",
       "<style scoped>\n",
       "    .dataframe tbody tr th:only-of-type {\n",
       "        vertical-align: middle;\n",
       "    }\n",
       "\n",
       "    .dataframe tbody tr th {\n",
       "        vertical-align: top;\n",
       "    }\n",
       "\n",
       "    .dataframe thead th {\n",
       "        text-align: right;\n",
       "    }\n",
       "</style>\n",
       "<table border=\"1\" class=\"dataframe\">\n",
       "  <thead>\n",
       "    <tr style=\"text-align: right;\">\n",
       "      <th></th>\n",
       "      <th>path</th>\n",
       "      <th>label</th>\n",
       "    </tr>\n",
       "  </thead>\n",
       "  <tbody>\n",
       "    <tr>\n",
       "      <th>336</th>\n",
       "      <td>../input/music-notes-datasets/datasets/dataset...</td>\n",
       "      <td>3</td>\n",
       "    </tr>\n",
       "    <tr>\n",
       "      <th>3473</th>\n",
       "      <td>../input/music-notes-datasets/datasets/dataset...</td>\n",
       "      <td>4</td>\n",
       "    </tr>\n",
       "    <tr>\n",
       "      <th>2900</th>\n",
       "      <td>../input/music-notes-datasets/datasets/dataset...</td>\n",
       "      <td>2</td>\n",
       "    </tr>\n",
       "    <tr>\n",
       "      <th>66</th>\n",
       "      <td>../input/music-notes-datasets/datasets/dataset...</td>\n",
       "      <td>3</td>\n",
       "    </tr>\n",
       "    <tr>\n",
       "      <th>1737</th>\n",
       "      <td>../input/music-notes-datasets/datasets/dataset...</td>\n",
       "      <td>0</td>\n",
       "    </tr>\n",
       "  </tbody>\n",
       "</table>\n",
       "</div>"
      ],
      "text/plain": [
       "                                                   path label\n",
       "336   ../input/music-notes-datasets/datasets/dataset...     3\n",
       "3473  ../input/music-notes-datasets/datasets/dataset...     4\n",
       "2900  ../input/music-notes-datasets/datasets/dataset...     2\n",
       "66    ../input/music-notes-datasets/datasets/dataset...     3\n",
       "1737  ../input/music-notes-datasets/datasets/dataset...     0"
      ]
     },
     "execution_count": 7,
     "metadata": {},
     "output_type": "execute_result"
    }
   ],
   "source": [
    "train.head()"
   ]
  },
  {
   "cell_type": "code",
   "execution_count": 8,
   "id": "9c961a09",
   "metadata": {
    "execution": {
     "iopub.execute_input": "2022-02-01T06:08:45.040196Z",
     "iopub.status.busy": "2022-02-01T06:08:45.039327Z",
     "iopub.status.idle": "2022-02-01T06:08:45.046057Z",
     "shell.execute_reply": "2022-02-01T06:08:45.046426Z",
     "shell.execute_reply.started": "2022-02-01T05:47:37.520872Z"
    },
    "papermill": {
     "duration": 0.02718,
     "end_time": "2022-02-01T06:08:45.046588",
     "exception": false,
     "start_time": "2022-02-01T06:08:45.019408",
     "status": "completed"
    },
    "tags": []
   },
   "outputs": [
    {
     "data": {
      "text/html": [
       "<div>\n",
       "<style scoped>\n",
       "    .dataframe tbody tr th:only-of-type {\n",
       "        vertical-align: middle;\n",
       "    }\n",
       "\n",
       "    .dataframe tbody tr th {\n",
       "        vertical-align: top;\n",
       "    }\n",
       "\n",
       "    .dataframe thead th {\n",
       "        text-align: right;\n",
       "    }\n",
       "</style>\n",
       "<table border=\"1\" class=\"dataframe\">\n",
       "  <thead>\n",
       "    <tr style=\"text-align: right;\">\n",
       "      <th></th>\n",
       "      <th>path</th>\n",
       "      <th>label</th>\n",
       "    </tr>\n",
       "  </thead>\n",
       "  <tbody>\n",
       "    <tr>\n",
       "      <th>4003</th>\n",
       "      <td>../input/music-notes-datasets/datasets/dataset...</td>\n",
       "      <td>1</td>\n",
       "    </tr>\n",
       "    <tr>\n",
       "      <th>2314</th>\n",
       "      <td>../input/music-notes-datasets/datasets/dataset...</td>\n",
       "      <td>2</td>\n",
       "    </tr>\n",
       "    <tr>\n",
       "      <th>3778</th>\n",
       "      <td>../input/music-notes-datasets/datasets/dataset...</td>\n",
       "      <td>4</td>\n",
       "    </tr>\n",
       "    <tr>\n",
       "      <th>100</th>\n",
       "      <td>../input/music-notes-datasets/datasets/dataset...</td>\n",
       "      <td>3</td>\n",
       "    </tr>\n",
       "    <tr>\n",
       "      <th>2968</th>\n",
       "      <td>../input/music-notes-datasets/datasets/dataset...</td>\n",
       "      <td>2</td>\n",
       "    </tr>\n",
       "  </tbody>\n",
       "</table>\n",
       "</div>"
      ],
      "text/plain": [
       "                                                   path label\n",
       "4003  ../input/music-notes-datasets/datasets/dataset...     1\n",
       "2314  ../input/music-notes-datasets/datasets/dataset...     2\n",
       "3778  ../input/music-notes-datasets/datasets/dataset...     4\n",
       "100   ../input/music-notes-datasets/datasets/dataset...     3\n",
       "2968  ../input/music-notes-datasets/datasets/dataset...     2"
      ]
     },
     "execution_count": 8,
     "metadata": {},
     "output_type": "execute_result"
    }
   ],
   "source": [
    "test.head()"
   ]
  },
  {
   "cell_type": "markdown",
   "id": "c0d8251b",
   "metadata": {
    "papermill": {
     "duration": 0.016433,
     "end_time": "2022-02-01T06:08:45.079637",
     "exception": false,
     "start_time": "2022-02-01T06:08:45.063204",
     "status": "completed"
    },
    "tags": []
   },
   "source": [
    "# DATA LOADER"
   ]
  },
  {
   "cell_type": "code",
   "execution_count": 9,
   "id": "122acbbf",
   "metadata": {
    "execution": {
     "iopub.execute_input": "2022-02-01T06:08:45.115764Z",
     "iopub.status.busy": "2022-02-01T06:08:45.114965Z",
     "iopub.status.idle": "2022-02-01T06:08:45.935037Z",
     "shell.execute_reply": "2022-02-01T06:08:45.933873Z",
     "shell.execute_reply.started": "2022-02-01T05:50:20.056322Z"
    },
    "papermill": {
     "duration": 0.838864,
     "end_time": "2022-02-01T06:08:45.935182",
     "exception": false,
     "start_time": "2022-02-01T06:08:45.096318",
     "status": "completed"
    },
    "tags": []
   },
   "outputs": [],
   "source": [
    "from tensorflow.keras.preprocessing.image import load_img\n",
    "\n",
    "class dataloader(tf.keras.utils.Sequence):\n",
    "       \n",
    "    def __init__(self, batch_size, img_width, img_height, data):\n",
    "        self.bs = batch_size\n",
    "        self.h = img_height\n",
    "        self.w = img_width\n",
    "        self.path = data['path'].values\n",
    "        self.label = data['label'].values\n",
    "        \n",
    "    def __len__(self):\n",
    "        return len(self.path) // self.bs\n",
    "    \n",
    "    def __getitem__(self, idx):\n",
    "        \n",
    "        i = idx * self.bs\n",
    "        batch_paths = self.path[i : i + self.bs]\n",
    "        batch_labels = self.label[i : i + self.bs]\n",
    "        \n",
    "        X = np.zeros((self.bs, self.h, self.w, 3), dtype=\"float32\")\n",
    "        y = np.zeros((self.bs, 5), dtype=\"int32\")\n",
    "        \n",
    "        for j in range(self.bs): \n",
    "            img = load_img(batch_paths[j], color_mode = \"rgb\", target_size=(self.h, self.w)) # color_mode = \"grayscale\" \n",
    "            img = np.array(img, dtype = 'float32') \n",
    "            img = 1-img/127.5\n",
    "            X[j] = img     \n",
    "            y[j,batch_labels[j]] = 1  \n",
    "        return X, y"
   ]
  },
  {
   "cell_type": "code",
   "execution_count": 10,
   "id": "7abf4550",
   "metadata": {
    "execution": {
     "iopub.execute_input": "2022-02-01T06:08:45.976751Z",
     "iopub.status.busy": "2022-02-01T06:08:45.976048Z",
     "iopub.status.idle": "2022-02-01T06:08:45.978711Z",
     "shell.execute_reply": "2022-02-01T06:08:45.978165Z",
     "shell.execute_reply.started": "2022-02-01T05:50:22.849905Z"
    },
    "papermill": {
     "duration": 0.0265,
     "end_time": "2022-02-01T06:08:45.978831",
     "exception": false,
     "start_time": "2022-02-01T06:08:45.952331",
     "status": "completed"
    },
    "tags": []
   },
   "outputs": [],
   "source": [
    "train_gen = dataloader(5, 224, 224, train)\n",
    "\n",
    "test_gen = dataloader(5, 224, 224, test)"
   ]
  },
  {
   "cell_type": "markdown",
   "id": "990fbc3f",
   "metadata": {
    "papermill": {
     "duration": 0.016912,
     "end_time": "2022-02-01T06:08:46.012276",
     "exception": false,
     "start_time": "2022-02-01T06:08:45.995364",
     "status": "completed"
    },
    "tags": []
   },
   "source": [
    "## Testing samples"
   ]
  },
  {
   "cell_type": "code",
   "execution_count": 11,
   "id": "8860bdda",
   "metadata": {
    "execution": {
     "iopub.execute_input": "2022-02-01T06:08:46.049682Z",
     "iopub.status.busy": "2022-02-01T06:08:46.048990Z",
     "iopub.status.idle": "2022-02-01T06:08:46.081627Z",
     "shell.execute_reply": "2022-02-01T06:08:46.082037Z",
     "shell.execute_reply.started": "2022-02-01T05:50:24.758087Z"
    },
    "papermill": {
     "duration": 0.053259,
     "end_time": "2022-02-01T06:08:46.082152",
     "exception": false,
     "start_time": "2022-02-01T06:08:46.028893",
     "status": "completed"
    },
    "tags": []
   },
   "outputs": [
    {
     "name": "stdout",
     "output_type": "stream",
     "text": [
      "images in batch =  (5, 224, 224, 3)\n",
      "labels in batch =  (5, 5)\n"
     ]
    }
   ],
   "source": [
    "batch1 = test_gen[3]\n",
    "\n",
    "images = batch1[0]\n",
    "\n",
    "labels = batch1[1]\n",
    "\n",
    "print(\"images in batch = \", images.shape)\n",
    "print(\"labels in batch = \", labels.shape)"
   ]
  },
  {
   "cell_type": "code",
   "execution_count": 12,
   "id": "7a970149",
   "metadata": {
    "execution": {
     "iopub.execute_input": "2022-02-01T06:08:46.123997Z",
     "iopub.status.busy": "2022-02-01T06:08:46.123254Z",
     "iopub.status.idle": "2022-02-01T06:08:46.989604Z",
     "shell.execute_reply": "2022-02-01T06:08:46.989136Z",
     "shell.execute_reply.started": "2022-02-01T06:07:46.665213Z"
    },
    "papermill": {
     "duration": 0.890269,
     "end_time": "2022-02-01T06:08:46.989727",
     "exception": false,
     "start_time": "2022-02-01T06:08:46.099458",
     "status": "completed"
    },
    "tags": []
   },
   "outputs": [
    {
     "data": {
      "image/png": "[encoded data removed]",
      "text/plain": [
       "<Figure size 432x288 with 1 Axes>"
      ]
     },
     "metadata": {
      "needs_background": "light"
     },
     "output_type": "display_data"
    },
    {
     "data": {
      "image/png": "[encoded data removed]",
      "text/plain": [
       "<Figure size 432x288 with 1 Axes>"
      ]
     },
     "metadata": {
      "needs_background": "light"
     },
     "output_type": "display_data"
    },
    {
     "data": {
      "image/png": "[encoded data removed]",
      "text/plain": [
       "<Figure size 432x288 with 1 Axes>"
      ]
     },
     "metadata": {
      "needs_background": "light"
     },
     "output_type": "display_data"
    },
    {
     "data": {
      "image/png": "[encoded data removed]",
      "text/plain": [
       "<Figure size 432x288 with 1 Axes>"
      ]
     },
     "metadata": {
      "needs_background": "light"
     },
     "output_type": "display_data"
    },
    {
     "data": {
      "image/png": "[encoded data removed]",
      "text/plain": [
       "<Figure size 432x288 with 1 Axes>"
      ]
     },
     "metadata": {
      "needs_background": "light"
     },
     "output_type": "display_data"
    }
   ],
   "source": [
    "for i, j in zip(images, labels):\n",
    "    plt.subplots()\n",
    "    plt.imshow(i)\n",
    "    plt.title(label_decode[np.argmax(j)])"
   ]
  },
  {
   "cell_type": "markdown",
   "id": "ec974a6a",
   "metadata": {
    "papermill": {
     "duration": 0.019728,
     "end_time": "2022-02-01T06:08:47.030492",
     "exception": false,
     "start_time": "2022-02-01T06:08:47.010764",
     "status": "completed"
    },
    "tags": []
   },
   "source": [
    "## MODEL SETUP"
   ]
  },
  {
   "cell_type": "code",
   "execution_count": 13,
   "id": "18e59e52",
   "metadata": {
    "execution": {
     "iopub.execute_input": "2022-02-01T06:08:47.077819Z",
     "iopub.status.busy": "2022-02-01T06:08:47.077066Z",
     "iopub.status.idle": "2022-02-01T06:08:49.564094Z",
     "shell.execute_reply": "2022-02-01T06:08:49.564654Z",
     "shell.execute_reply.started": "2022-02-01T05:51:46.846669Z"
    },
    "papermill": {
     "duration": 2.514547,
     "end_time": "2022-02-01T06:08:49.564858",
     "exception": false,
     "start_time": "2022-02-01T06:08:47.050311",
     "status": "completed"
    },
    "tags": []
   },
   "outputs": [
    {
     "name": "stderr",
     "output_type": "stream",
     "text": [
      "2022-02-01 06:08:47.153146: I tensorflow/stream_executor/cuda/cuda_gpu_executor.cc:937] successful NUMA node read from SysFS had negative value (-1), but there must be at least one NUMA node, so returning NUMA node zero\n",
      "2022-02-01 06:08:47.259243: I tensorflow/stream_executor/cuda/cuda_gpu_executor.cc:937] successful NUMA node read from SysFS had negative value (-1), but there must be at least one NUMA node, so returning NUMA node zero\n",
      "2022-02-01 06:08:47.259994: I tensorflow/stream_executor/cuda/cuda_gpu_executor.cc:937] successful NUMA node read from SysFS had negative value (-1), but there must be at least one NUMA node, so returning NUMA node zero\n",
      "2022-02-01 06:08:47.261128: I tensorflow/core/platform/cpu_feature_guard.cc:142] This TensorFlow binary is optimized with oneAPI Deep Neural Network Library (oneDNN) to use the following CPU instructions in performance-critical operations:  AVX2 AVX512F FMA\n",
      "To enable them in other operations, rebuild TensorFlow with the appropriate compiler flags.\n",
      "2022-02-01 06:08:47.262146: I tensorflow/stream_executor/cuda/cuda_gpu_executor.cc:937] successful NUMA node read from SysFS had negative value (-1), but there must be at least one NUMA node, so returning NUMA node zero\n",
      "2022-02-01 06:08:47.263060: I tensorflow/stream_executor/cuda/cuda_gpu_executor.cc:937] successful NUMA node read from SysFS had negative value (-1), but there must be at least one NUMA node, so returning NUMA node zero\n",
      "2022-02-01 06:08:47.263787: I tensorflow/stream_executor/cuda/cuda_gpu_executor.cc:937] successful NUMA node read from SysFS had negative value (-1), but there must be at least one NUMA node, so returning NUMA node zero\n",
      "2022-02-01 06:08:49.160535: I tensorflow/stream_executor/cuda/cuda_gpu_executor.cc:937] successful NUMA node read from SysFS had negative value (-1), but there must be at least one NUMA node, so returning NUMA node zero\n",
      "2022-02-01 06:08:49.161346: I tensorflow/stream_executor/cuda/cuda_gpu_executor.cc:937] successful NUMA node read from SysFS had negative value (-1), but there must be at least one NUMA node, so returning NUMA node zero\n",
      "2022-02-01 06:08:49.162051: I tensorflow/stream_executor/cuda/cuda_gpu_executor.cc:937] successful NUMA node read from SysFS had negative value (-1), but there must be at least one NUMA node, so returning NUMA node zero\n",
      "2022-02-01 06:08:49.162647: I tensorflow/core/common_runtime/gpu/gpu_device.cc:1510] Created device /job:localhost/replica:0/task:0/device:GPU:0 with 15403 MB memory:  -> device: 0, name: Tesla P100-PCIE-16GB, pci bus id: 0000:00:04.0, compute capability: 6.0\n"
     ]
    }
   ],
   "source": [
    "from tensorflow.keras.models import Sequential\n",
    "from tensorflow.keras.layers import Dense, Conv2D, MaxPooling2D, Flatten\n",
    "\n",
    "model = Sequential()\n",
    "model.add(Conv2D(8, (3, 3), activation='relu', input_shape=(224, 224, 3)))\n",
    "model.add(Conv2D(4, (4, 4), activation='relu'))\n",
    "model.add(MaxPooling2D((2, 2)))\n",
    "model.add(Conv2D(4, (3, 3), activation='relu'))\n",
    "model.add(Conv2D(3, (3, 3), activation='relu'))\n",
    "model.add(Conv2D(3, (3, 3), activation='relu'))\n",
    "model.add(MaxPooling2D((2, 2)))\n",
    "model.add(Flatten())\n",
    "model.add(Dense(32, activation='relu'))\n",
    "model.add(Dense(5,activation='softmax'))    #output_channel = 5"
   ]
  },
  {
   "cell_type": "code",
   "execution_count": 14,
   "id": "f4b6bf15",
   "metadata": {
    "execution": {
     "iopub.execute_input": "2022-02-01T06:08:49.611869Z",
     "iopub.status.busy": "2022-02-01T06:08:49.610419Z",
     "iopub.status.idle": "2022-02-01T06:08:49.618319Z",
     "shell.execute_reply": "2022-02-01T06:08:49.617912Z",
     "shell.execute_reply.started": "2022-02-01T05:51:49.056004Z"
    },
    "papermill": {
     "duration": 0.032533,
     "end_time": "2022-02-01T06:08:49.618427",
     "exception": false,
     "start_time": "2022-02-01T06:08:49.585894",
     "status": "completed"
    },
    "tags": []
   },
   "outputs": [
    {
     "name": "stdout",
     "output_type": "stream",
     "text": [
      "Model: \"sequential\"\n",
      "_________________________________________________________________\n",
      "Layer (type)                 Output Shape              Param #   \n",
      "=================================================================\n",
      "conv2d (Conv2D)              (None, 222, 222, 8)       224       \n",
      "_________________________________________________________________\n",
      "conv2d_1 (Conv2D)            (None, 219, 219, 4)       516       \n",
      "_________________________________________________________________\n",
      "max_pooling2d (MaxPooling2D) (None, 109, 109, 4)       0         \n",
      "_________________________________________________________________\n",
      "conv2d_2 (Conv2D)            (None, 107, 107, 4)       148       \n",
      "_________________________________________________________________\n",
      "conv2d_3 (Conv2D)            (None, 105, 105, 3)       111       \n",
      "_________________________________________________________________\n",
      "conv2d_4 (Conv2D)            (None, 103, 103, 3)       84        \n",
      "_________________________________________________________________\n",
      "max_pooling2d_1 (MaxPooling2 (None, 51, 51, 3)         0         \n",
      "_________________________________________________________________\n",
      "flatten (Flatten)            (None, 7803)              0         \n",
      "_________________________________________________________________\n",
      "dense (Dense)                (None, 32)                249728    \n",
      "_________________________________________________________________\n",
      "dense_1 (Dense)              (None, 5)                 165       \n",
      "=================================================================\n",
      "Total params: 250,976\n",
      "Trainable params: 250,976\n",
      "Non-trainable params: 0\n",
      "_________________________________________________________________\n"
     ]
    }
   ],
   "source": [
    "model.summary()"
   ]
  },
  {
   "cell_type": "markdown",
   "id": "9edf1592",
   "metadata": {
    "papermill": {
     "duration": 0.020161,
     "end_time": "2022-02-01T06:08:49.658826",
     "exception": false,
     "start_time": "2022-02-01T06:08:49.638665",
     "status": "completed"
    },
    "tags": []
   },
   "source": [
    "## TRAINNING"
   ]
  },
  {
   "cell_type": "code",
   "execution_count": 15,
   "id": "24a1dcc9",
   "metadata": {
    "execution": {
     "iopub.execute_input": "2022-02-01T06:08:49.704578Z",
     "iopub.status.busy": "2022-02-01T06:08:49.703866Z",
     "iopub.status.idle": "2022-02-01T06:08:49.712382Z",
     "shell.execute_reply": "2022-02-01T06:08:49.711883Z",
     "shell.execute_reply.started": "2022-02-01T05:51:51.780298Z"
    },
    "papermill": {
     "duration": 0.033246,
     "end_time": "2022-02-01T06:08:49.712506",
     "exception": false,
     "start_time": "2022-02-01T06:08:49.679260",
     "status": "completed"
    },
    "tags": []
   },
   "outputs": [],
   "source": [
    "model.compile(loss='categorical_crossentropy', optimizer='SGD', metrics=['accuracy'])"
   ]
  },
  {
   "cell_type": "code",
   "execution_count": 16,
   "id": "28d5e8ed",
   "metadata": {
    "execution": {
     "iopub.execute_input": "2022-02-01T06:08:49.756620Z",
     "iopub.status.busy": "2022-02-01T06:08:49.756023Z",
     "iopub.status.idle": "2022-02-01T06:12:00.271296Z",
     "shell.execute_reply": "2022-02-01T06:12:00.271753Z",
     "shell.execute_reply.started": "2022-02-01T05:51:57.505558Z"
    },
    "papermill": {
     "duration": 190.539295,
     "end_time": "2022-02-01T06:12:00.271921",
     "exception": false,
     "start_time": "2022-02-01T06:08:49.732626",
     "status": "completed"
    },
    "tags": []
   },
   "outputs": [
    {
     "name": "stderr",
     "output_type": "stream",
     "text": [
      "2022-02-01 06:08:49.847741: I tensorflow/compiler/mlir/mlir_graph_optimization_pass.cc:185] None of the MLIR Optimization Passes are enabled (registered 2)\n"
     ]
    },
    {
     "name": "stdout",
     "output_type": "stream",
     "text": [
      "Epoch 1/20\n"
     ]
    },
    {
     "name": "stderr",
     "output_type": "stream",
     "text": [
      "2022-02-01 06:08:51.083150: I tensorflow/stream_executor/cuda/cuda_dnn.cc:369] Loaded cuDNN version 8005\n"
     ]
    },
    {
     "name": "stdout",
     "output_type": "stream",
     "text": [
      "800/800 [==============================] - 24s 22ms/step - loss: 0.6518 - accuracy: 0.7430 - val_loss: 0.2600 - val_accuracy: 0.9060\n",
      "Epoch 2/20\n",
      "800/800 [==============================] - 9s 11ms/step - loss: 0.2048 - accuracy: 0.9260 - val_loss: 0.1425 - val_accuracy: 0.9560\n",
      "Epoch 3/20\n",
      "800/800 [==============================] - 9s 11ms/step - loss: 0.0922 - accuracy: 0.9695 - val_loss: 0.1092 - val_accuracy: 0.9530\n",
      "Epoch 4/20\n",
      "800/800 [==============================] - 9s 11ms/step - loss: 0.0740 - accuracy: 0.9758 - val_loss: 0.1018 - val_accuracy: 0.9630\n",
      "Epoch 5/20\n",
      "800/800 [==============================] - 9s 11ms/step - loss: 0.0622 - accuracy: 0.9827 - val_loss: 0.1169 - val_accuracy: 0.9600\n",
      "Epoch 6/20\n",
      "800/800 [==============================] - 8s 11ms/step - loss: 0.0399 - accuracy: 0.9885 - val_loss: 0.0786 - val_accuracy: 0.9760\n",
      "Epoch 7/20\n",
      "800/800 [==============================] - 9s 11ms/step - loss: 0.0234 - accuracy: 0.9925 - val_loss: 0.0974 - val_accuracy: 0.9710\n",
      "Epoch 8/20\n",
      "800/800 [==============================] - 8s 10ms/step - loss: 0.0218 - accuracy: 0.9935 - val_loss: 0.0883 - val_accuracy: 0.9720\n",
      "Epoch 9/20\n",
      "800/800 [==============================] - 9s 11ms/step - loss: 0.0020 - accuracy: 1.0000 - val_loss: 0.0651 - val_accuracy: 0.9870\n",
      "Epoch 10/20\n",
      "800/800 [==============================] - 8s 10ms/step - loss: 2.8512e-04 - accuracy: 1.0000 - val_loss: 0.0632 - val_accuracy: 0.9860\n",
      "Epoch 11/20\n",
      "800/800 [==============================] - 8s 10ms/step - loss: 1.2856e-04 - accuracy: 1.0000 - val_loss: 0.0656 - val_accuracy: 0.9860\n",
      "Epoch 12/20\n",
      "800/800 [==============================] - 9s 11ms/step - loss: 9.0694e-05 - accuracy: 1.0000 - val_loss: 0.0673 - val_accuracy: 0.9860\n",
      "Epoch 13/20\n",
      "800/800 [==============================] - 9s 11ms/step - loss: 7.0347e-05 - accuracy: 1.0000 - val_loss: 0.0686 - val_accuracy: 0.9860\n",
      "Epoch 14/20\n",
      "800/800 [==============================] - 9s 11ms/step - loss: 5.7163e-05 - accuracy: 1.0000 - val_loss: 0.0698 - val_accuracy: 0.9860\n",
      "Epoch 15/20\n",
      "800/800 [==============================] - 8s 10ms/step - loss: 4.8005e-05 - accuracy: 1.0000 - val_loss: 0.0708 - val_accuracy: 0.9860\n",
      "Epoch 16/20\n",
      "800/800 [==============================] - 10s 12ms/step - loss: 4.1244e-05 - accuracy: 1.0000 - val_loss: 0.0717 - val_accuracy: 0.9860\n",
      "Epoch 17/20\n",
      "800/800 [==============================] - 8s 10ms/step - loss: 3.6064e-05 - accuracy: 1.0000 - val_loss: 0.0725 - val_accuracy: 0.9860\n",
      "Epoch 18/20\n",
      "800/800 [==============================] - 9s 11ms/step - loss: 3.1964e-05 - accuracy: 1.0000 - val_loss: 0.0732 - val_accuracy: 0.9860\n",
      "Epoch 19/20\n",
      "800/800 [==============================] - 9s 11ms/step - loss: 2.8656e-05 - accuracy: 1.0000 - val_loss: 0.0738 - val_accuracy: 0.9860\n",
      "Epoch 20/20\n",
      "800/800 [==============================] - 9s 11ms/step - loss: 2.5931e-05 - accuracy: 1.0000 - val_loss: 0.0744 - val_accuracy: 0.9860\n"
     ]
    },
    {
     "data": {
      "text/plain": [
       "<keras.callbacks.History at 0x7fe7a22dc310>"
      ]
     },
     "execution_count": 16,
     "metadata": {},
     "output_type": "execute_result"
    }
   ],
   "source": [
    "model.fit(train_gen, epochs=20, validation_data=test_gen, verbose=1)"
   ]
  },
  {
   "cell_type": "markdown",
   "id": "120d36f2",
   "metadata": {
    "papermill": {
     "duration": 0.711384,
     "end_time": "2022-02-01T06:12:01.948021",
     "exception": false,
     "start_time": "2022-02-01T06:12:01.236637",
     "status": "completed"
    },
    "tags": []
   },
   "source": [
    "## TESTING ON SINGLE IMAGE"
   ]
  },
  {
   "cell_type": "code",
   "execution_count": 17,
   "id": "0c68fec4",
   "metadata": {
    "execution": {
     "iopub.execute_input": "2022-02-01T06:12:03.376779Z",
     "iopub.status.busy": "2022-02-01T06:12:03.375859Z",
     "iopub.status.idle": "2022-02-01T06:12:03.539552Z",
     "shell.execute_reply": "2022-02-01T06:12:03.539068Z",
     "shell.execute_reply.started": "2022-02-01T05:59:07.144053Z"
    },
    "papermill": {
     "duration": 0.880777,
     "end_time": "2022-02-01T06:12:03.539674",
     "exception": false,
     "start_time": "2022-02-01T06:12:02.658897",
     "status": "completed"
    },
    "tags": []
   },
   "outputs": [],
   "source": [
    "path = '../input/music-notes-datasets/datasets/datasets/Notes/Sixteenth/s1.jpg'\n",
    "\n",
    "img = load_img(path , color_mode = \"rgb\", target_size=(224, 224)) # (h ,w) color_mode = \"grayscale\" \n",
    "img = np.array(img, dtype = 'float32') \n",
    "img = 1-img/127.5\n",
    "\n",
    "img = img.reshape(1,224,224,3)\n",
    "\n",
    "y1 = model.predict(img)"
   ]
  },
  {
   "cell_type": "code",
   "execution_count": 18,
   "id": "f11f5191",
   "metadata": {
    "execution": {
     "iopub.execute_input": "2022-02-01T06:12:05.008512Z",
     "iopub.status.busy": "2022-02-01T06:12:05.007893Z",
     "iopub.status.idle": "2022-02-01T06:12:05.010819Z",
     "shell.execute_reply": "2022-02-01T06:12:05.011389Z",
     "shell.execute_reply.started": "2022-02-01T05:59:13.123350Z"
    },
    "papermill": {
     "duration": 0.714727,
     "end_time": "2022-02-01T06:12:05.011572",
     "exception": false,
     "start_time": "2022-02-01T06:12:04.296845",
     "status": "completed"
    },
    "tags": []
   },
   "outputs": [
    {
     "name": "stdout",
     "output_type": "stream",
     "text": [
      "Sixteenth\n"
     ]
    }
   ],
   "source": [
    "s = np.argmax(y1)\n",
    "\n",
    "print(label_decode[s])"
   ]
  }
 ],
 "metadata": {
  "kernelspec": {
   "display_name": "Python 3",
   "language": "python",
   "name": "python3"
  },
  "language_info": {
   "codemirror_mode": {
    "name": "ipython",
    "version": 3
   },
   "file_extension": ".py",
   "mimetype": "text/x-python",
   "name": "python",
   "nbconvert_exporter": "python",
   "pygments_lexer": "ipython3",
   "version": "3.7.12"
  },
  "papermill": {
   "default_parameters": {},
   "duration": 227.529135,
   "end_time": "2022-02-01T06:12:08.973833",
   "environment_variables": {},
   "exception": null,
   "input_path": "__notebook__.ipynb",
   "output_path": "__notebook__.ipynb",
   "parameters": {},
   "start_time": "2022-02-01T06:08:21.444698",
   "version": "2.3.3"
  }
 },
 "nbformat": 4,
 "nbformat_minor": 5
}
